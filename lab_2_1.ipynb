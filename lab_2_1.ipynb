{
  "nbformat": 4,
  "nbformat_minor": 0,
  "metadata": {
    "colab": {
      "provenance": [],
      "authorship_tag": "ABX9TyP2u+kTOqOF7IZl6qSgsHal",
      "include_colab_link": true
    },
    "kernelspec": {
      "name": "python3",
      "display_name": "Python 3"
    },
    "language_info": {
      "name": "python"
    }
  },
  "cells": [
    {
      "cell_type": "markdown",
      "metadata": {
        "id": "view-in-github",
        "colab_type": "text"
      },
      "source": [
        "<a href=\"https://colab.research.google.com/github/2403a52233-sudo/AIAC/blob/main/lab_2_1.ipynb\" target=\"_parent\"><img src=\"https://colab.research.google.com/assets/colab-badge.svg\" alt=\"Open In Colab\"/></a>"
      ]
    },
    {
      "cell_type": "markdown",
      "source": [
        "Task1:Use Google Gemini in Colab to write a Python function that reads\n",
        "a list of numbers and calculates the mean, minimum, and\n",
        "maximum values."
      ],
      "metadata": {
        "id": "LO67h7thZE_z"
      }
    },
    {
      "cell_type": "code",
      "source": [
        "def analyze_numbers(numbers):\n",
        "  \"\"\"\n",
        "  Calculates the mean, minimum, and maximum of a list of numbers.\n",
        "\n",
        "  Args:\n",
        "    numbers: A list of numbers.\n",
        "\n",
        "  Returns:\n",
        "    A tuple containing the mean, minimum, and maximum values.\n",
        "    Returns (None, None, None) if the list is empty.\n",
        "  \"\"\"\n",
        "  if not numbers:\n",
        "    return None, None, None\n",
        "\n",
        "  mean = sum(numbers) / len(numbers)\n",
        "  minimum = min(numbers)\n",
        "  maximum = max(numbers)\n",
        "\n",
        "  return mean, minimum, maximum\n",
        "\n",
        "# Take user input for the list of numbers\n",
        "input_str = input(\"Enter a list of numbers separated by spaces: \")\n",
        "\n",
        "# Convert the input string to a list of numbers\n",
        "try:\n",
        "  numbers_list = [float(x) for x in input_str.split()]\n",
        "except ValueError:\n",
        "  print(\"Invalid input. Please enter a list of numbers.\")\n",
        "  numbers_list = []\n",
        "\n",
        "# Analyze the numbers and print the results\n",
        "mean_val, min_val, max_val = analyze_numbers(numbers_list)\n",
        "\n",
        "if mean_val is not None:\n",
        "  print(f\"\\nList: {numbers_list}\")\n",
        "  print(f\"Mean: {mean_val}\")\n",
        "  print(f\"Minimum: {min_val}\")\n",
        "  print(f\"Maximum: {max_val}\")\n",
        "else:\n",
        "  print(\"\\nNo numbers were entered.\")"
      ],
      "metadata": {
        "colab": {
          "base_uri": "https://localhost:8080/"
        },
        "id": "KuMR7D3IZdqS",
        "outputId": "2e9e4b9b-dc2d-445e-bc6c-99fe80ee8ceb"
      },
      "execution_count": null,
      "outputs": [
        {
          "output_type": "stream",
          "name": "stdout",
          "text": [
            "Enter a list of numbers separated by spaces: 2 3 4 5 \n",
            "\n",
            "List: [2.0, 3.0, 4.0, 5.0]\n",
            "Mean: 3.5\n",
            "Minimum: 2.0\n",
            "Maximum: 5.0\n"
          ]
        }
      ]
    },
    {
      "cell_type": "markdown",
      "source": [
        "Explanation:\n",
        "It finds the average number (the mean).\n",
        "It finds the smallest number (the minimum).\n",
        "It finds the biggest number (the maximum). If you give it an empty list, it knows there's nothing to calculate and tells you that."
      ],
      "metadata": {
        "id": "XumDoOMSWYcJ"
      }
    },
    {
      "cell_type": "markdown",
      "source": [],
      "metadata": {
        "id": "aXodZoYworzQ"
      }
    },
    {
      "cell_type": "markdown",
      "source": [
        "Task2:Compare Gemini and Copilot outputs for a Python function that\n",
        "checks whether a number is an Armstrong number. Document the\n",
        "steps, prompts, and outputs."
      ],
      "metadata": {
        "id": "pCMvHgPnZoNC"
      }
    },
    {
      "cell_type": "markdown",
      "source": [
        "Prompt:Write a Python function that checks whether a number is an Armstrong number or not."
      ],
      "metadata": {
        "id": "3vHESgJ3Uv9Z"
      }
    },
    {
      "cell_type": "code",
      "source": [
        "def is_armstrong_number(num):\n",
        "  \"\"\"\n",
        "  Checks if a number is an Armstrong number.\n",
        "\n",
        "  Args:\n",
        "    num: An integer.\n",
        "\n",
        "  Returns:\n",
        "    True if the number is an Armstrong number, False otherwise.\n",
        "  \"\"\"\n",
        "  # Convert the number to a string to find the number of digits\n",
        "  num_str = str(num)\n",
        "  num_digits = len(num_str)\n",
        "\n",
        "  # Calculate the sum of the digits raised to the power of the number of digits\n",
        "  armstrong_sum = 0\n",
        "  for digit in num_str:\n",
        "    armstrong_sum += int(digit) ** num_digits\n",
        "\n",
        "  # Check if the sum is equal to the original number\n",
        "  return armstrong_sum == num\n",
        "\n",
        "# Take user input for the number\n",
        "try:\n",
        "  user_input = int(input(\"Enter a number to check if it's an Armstrong number: \"))\n",
        "  if is_armstrong_number(user_input):\n",
        "    print(f\"{user_input} is an Armstrong number.\")\n",
        "  else:\n",
        "    print(f\"{user_input} is not an Armstrong number.\")\n",
        "except ValueError:\n",
        "  print(\"Invalid input. Please enter an integer.\")"
      ],
      "metadata": {
        "colab": {
          "base_uri": "https://localhost:8080/"
        },
        "id": "bH0xkpbOXGKy",
        "outputId": "7c3d38c9-3854-4bb4-f3fa-abbb3c9e2c85"
      },
      "execution_count": null,
      "outputs": [
        {
          "output_type": "stream",
          "name": "stdout",
          "text": [
            "Enter a number to check if it's an Armstrong number: 153\n",
            "153 is an Armstrong number.\n"
          ]
        }
      ]
    },
    {
      "cell_type": "markdown",
      "source": [
        "Explanation:\n",
        "You give the code any number.\n",
        "It figures out how many numbers (digits) are inside that number.\n",
        "It then looks at each single number (digit) within your number, one by one.\n",
        "For each single number, it multiplies that single number by itself a certain number of times. How many times? The same number of times as the total count of digits it found in step 2.\n",
        "After doing that for every single number (digit) in your original number, it adds up all the results it got.\n",
        "Finally, it compares the total sum it calculated to the original number you gave it. If these two numbers are exactly the same, the code says \"Yes, it's an Armstrong number!\" If they are different, it says \"No, it's not.\"\n",
        "\n"
      ],
      "metadata": {
        "id": "Z51vB_SJXwCy"
      }
    },
    {
      "cell_type": "markdown",
      "source": [
        "![image.png](data:image/png;base64,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)"
      ],
      "metadata": {
        "id": "xx3CpoIqiSuN"
      }
    },
    {
      "cell_type": "markdown",
      "source": [
        "Comparsion:We are looking at two different pieces of Python code that both check if a number is an \"Armstrong number\".\n",
        "\n",
        "Both versions have the same main job: they figure out if a number you provide is an Armstrong number or not.\n",
        "\n",
        "Let's compare how each version does this job:\n",
        "\n",
        "Version 1 (The first code you showed):\n",
        "\n",
        "How the Armstrong check works: This code takes your number, changes it into text (like 153 becomes \"153\"). It counts how many digits are in the text (3 digits). Then, it goes through the text one digit at a time (\"1\", then \"5\", then \"3\"). For each digit, it changes it back into a number (1, 5, 3) and multiplies that number by itself the same number of times as the total digit count (so, 1 multiplied by itself 3 times, 5 multiplied by itself 3 times, and 3 multiplied by itself 3 times). It adds all these results together as it goes. At the end, it checks if this final added-up total is the same as your original number.\n",
        "How it handles asking for your number: It asks you to type in a number. It then tries to turn what you typed into a whole number. Importantly, it has a way to catch mistakes (try...except). If you type something that isn't a valid whole number, it will notice the error, print a message like \"Invalid input,\" and won't try to process the incorrect input further.\n",
        "Version 2 (The second code you showed):\n",
        "\n",
        "How the Armstrong check works: This code also takes your number and changes it into text. It then quickly puts the digits into a list of numbers (like 153 becomes the list [1, 5, 3]). It finds out the total number of digits (the power to use, which is 3). Then, it uses a more compact command to calculate the sum of each digit raised to that power (sum(d ** power for d in digits)). This single command does the multiplying and adding for all digits at once. Finally, it checks if this total is the same as your original number.\n",
        "How it handles asking for your number: It asks you to type in a number and tries to turn it into a whole number. However, this version does not have the same built-in mistake-catching (try...except). If you type something that isn't a whole number, the code will stop running and show an error message.\n",
        "In Simple Terms (The Main Differences):\n",
        "\n",
        "Version 1 builds the sum step-by-step and is better at handling bad typing when you enter the number.\n",
        "Version 2 calculates the sum more directly and is shorter in that part, but it won't handle typing mistakes when you enter the number – it will just stop if the input isn't a whole number.\n",
        "So, Version 1 is more user-friendly for input mistakes, and Version 2 is a bit more condensed in its calculation part.\n",
        "\n"
      ],
      "metadata": {
        "id": "_GIu8293kAiW"
      }
    },
    {
      "cell_type": "markdown",
      "source": [
        "Task3:● Ask Gemini to explain a Python function (e.g., is_prime(n) or\n",
        "is_palindrome(s)) line by line.\n",
        "● Choose either a prime-checking or palindrome-checking function\n",
        "and document the explanation provided by Gemini.\n"
      ],
      "metadata": {
        "id": "46jP8uHEYjkK"
      }
    },
    {
      "cell_type": "markdown",
      "source": [
        "Prompt:Write a Python function line by line.Choose either a prime-checking or palindrome-checking function"
      ],
      "metadata": {
        "id": "JC5ozBy0aH96"
      }
    },
    {
      "cell_type": "code",
      "source": [
        "# Define a function to check if a number is prime.\n",
        "def is_prime(num):\n",
        "  # Check if the number is less than or equal to 1. Prime numbers are greater than 1.\n",
        "  if num <= 1:\n",
        "    # If it's not greater than 1, it's not prime, so return False.\n",
        "    return False\n",
        "  # Start a loop to check for divisors from 2 up to the square root of the number.\n",
        "  # We only need to check up to the square root for prime numbers.\n",
        "  for i in range(2, int(num**0.5) + 1):\n",
        "    # Check if the number is perfectly divisible by the current number i.\n",
        "    if num % i == 0:\n",
        "      # If it is divisible, it means it has a factor other than 1 and itself, so it's not prime.\n",
        "      # Return False immediately.\n",
        "      return False\n",
        "  # If the loop finishes without finding any divisors, the number is prime.\n",
        "  # Return True.\n",
        "  return True\n",
        "\n",
        "# Define a function to check if a string is a palindrome.\n",
        "def is_palindrome(text):\n",
        "  # Convert the input text to lowercase and remove spaces for case-insensitive and space-ignoring check.\n",
        "  cleaned_text = \"\".join(text.lower().split())\n",
        "  # Compare the cleaned text with its reverse.\n",
        "  # Slicing [::-1] reverses a string.\n",
        "  # If the cleaned text is the same forwards and backward, it's a palindrome.\n",
        "  return cleaned_text == cleaned_text[::-1]\n",
        "\n",
        "# Ask the user what kind of check they want to perform.\n",
        "print(\"Choose a check to perform:\")\n",
        "print(\"1. Prime number\")\n",
        "print(\"2. Palindrome\")\n",
        "\n",
        "# Get the user's choice.\n",
        "choice = input(\"Enter your choice (1 or 2): \")\n",
        "\n",
        "# Check the user's choice and perform the corresponding action.\n",
        "if choice == '1':\n",
        "  # If the user chose Prime number check:\n",
        "  # Prompt the user to enter an integer.\n",
        "  input_str = input(\"Enter an integer to check if it's prime: \")\n",
        "  # Use a try-except block to handle potential errors if the user enters non-integer input.\n",
        "  try:\n",
        "    # Convert the user's input string to an integer.\n",
        "    user_input = int(input_str)\n",
        "    # Call the is_prime function with the user's number.\n",
        "    if is_prime(user_input):\n",
        "      # If the function returns True, print that the number is prime.\n",
        "      print(f\"{user_input} is a prime number.\")\n",
        "    else:\n",
        "      # If the function returns False, print that the number is not prime.\n",
        "      print(f\"{user_input} is not a prime number.\")\n",
        "  except ValueError:\n",
        "    # If the input could not be converted to an integer, print an error message.\n",
        "    print(\"Invalid input. Please enter an integer.\")\n",
        "\n",
        "elif choice == '2':\n",
        "  # If the user chose Palindrome check:\n",
        "  # Prompt the user to enter text.\n",
        "  user_input = input(\"Enter text to check if it's a palindrome: \")\n",
        "  # Call the is_palindrome function with the user's text.\n",
        "  if is_palindrome(user_input):\n",
        "    # If the function returns True, print that the text is a palindrome.\n",
        "    print(f\"'{user_input}' is a palindrome.\")\n",
        "  else:\n",
        "    # If the function returns False, print that the text is not a palindrome.\n",
        "    print(f\"'{user_input}' is not a palindrome.\")\n",
        "\n",
        "else:\n",
        "  # If the user entered something other than 1 or 2:\n",
        "  # Print an error message for invalid choice.\n",
        "  print(\"Invalid choice. Please enter 1 or 2.\")"
      ],
      "metadata": {
        "colab": {
          "base_uri": "https://localhost:8080/"
        },
        "id": "fXR1H1IIefol",
        "outputId": "f6cf8daf-d2d7-4eb1-884c-40ff690c5388"
      },
      "execution_count": null,
      "outputs": [
        {
          "output_type": "stream",
          "name": "stdout",
          "text": [
            "Choose a check to perform:\n",
            "1. Prime number\n",
            "2. Palindrome\n",
            "Enter your choice (1 or 2): 1\n",
            "Enter an integer to check if it's prime: 5\n",
            "5 is a prime number.\n"
          ]
        }
      ]
    },
    {
      "cell_type": "markdown",
      "source": [
        "Explanation:\n",
        "This code lets you pick if you want to check a number to see if it's prime (only divisible by 1 and itself) OR if you want to check some text to see if it reads the same forwards and backward (a palindrome). You tell it which one you want, give it the number or text, and it tells you the answer.\n",
        "\n"
      ],
      "metadata": {
        "id": "g6Xc8Ed8b-N0"
      }
    },
    {
      "cell_type": "markdown",
      "source": [
        "TASK4:Install and configure Cursor AI. Use it to generate a Python\n",
        "function (e.g., sum of the first N natural numbers) and test its\n",
        "output.\n",
        "● Optionally, compare Cursor AI’s generated code with Gemini’s\n",
        "output."
      ],
      "metadata": {
        "id": "gRQQzti7ccQC"
      }
    },
    {
      "cell_type": "markdown",
      "source": [
        "Prompt:Write a python function to find sum of the N natural numbers."
      ],
      "metadata": {
        "id": "J0TeVPtncie7"
      }
    },
    {
      "cell_type": "code",
      "source": [
        "def sum_of_natural_numbers(n):\n",
        "  \"\"\"\n",
        "  Calculates the sum of the first N natural numbers.\n",
        "\n",
        "  Args:\n",
        "    n: An integer representing the number of natural numbers.\n",
        "\n",
        "  Returns:\n",
        "    The sum of the first N natural numbers.\n",
        "    Returns 0 if n is not a positive integer.\n",
        "  \"\"\"\n",
        "  if not isinstance(n, int) or n <= 0:\n",
        "    return 0\n",
        "  return n * (n + 1) // 2 # Using the formula for the sum of an arithmetic series\n",
        "\n",
        "# Take user input for N\n",
        "input_str = input(\"Enter a positive integer (N) to find the sum of the first N natural numbers: \")\n",
        "\n",
        "# Use a try-except block to handle potential errors if the user enters non-integer input.\n",
        "try:\n",
        "  # Convert the user's input string to an integer.\n",
        "  user_n = int(input_str)\n",
        "  # Calculate the sum using the function.\n",
        "  total_sum = sum_of_natural_numbers(user_n)\n",
        "\n",
        "  # Print the result.\n",
        "  if user_n > 0:\n",
        "    print(f\"The sum of the first {user_n} natural numbers is: {total_sum}\")\n",
        "  else:\n",
        "    print(\"Please enter a positive integer.\")\n",
        "\n",
        "except ValueError:\n",
        "  # If the input could not be converted to an integer, print an error message.\n",
        "  print(\"Invalid input. Please enter a valid positive integer.\")"
      ],
      "metadata": {
        "colab": {
          "base_uri": "https://localhost:8080/"
        },
        "id": "SY9RgUjpew_N",
        "outputId": "04d27e96-4c62-472d-b18b-5f656d70e79e"
      },
      "execution_count": null,
      "outputs": [
        {
          "output_type": "stream",
          "name": "stdout",
          "text": [
            "Enter a positive integer (N) to find the sum of the first N natural numbers: 6\n",
            "The sum of the first 6 natural numbers is: 21\n"
          ]
        }
      ]
    },
    {
      "cell_type": "markdown",
      "source": [
        "Explanation:\n",
        "This code helps you quickly find the total when you add up all the whole numbers starting from 1, going up to a number you choose. You tell it the last number you want to add up to, and it uses a clever shortcut to give you the total sum"
      ],
      "metadata": {
        "id": "QJGbpUODdT3G"
      }
    },
    {
      "cell_type": "markdown",
      "source": [
        "Task5:Students need to write a Python program to calculate the sum of\n",
        "odd numbers and even numbers in a given tuple.\n",
        "● Refactor the code to improve logic and readability."
      ],
      "metadata": {
        "id": "mTPa9go3e6Tt"
      }
    },
    {
      "cell_type": "markdown",
      "source": [
        "Prompt: write a Python program to calculate the sum of odd numbers and even numbers in a given tuple."
      ],
      "metadata": {
        "id": "1T0NFG9ffHmF"
      }
    },
    {
      "cell_type": "code",
      "source": [
        "# Take user input for the list of numbers\n",
        "input_str = input(\"Enter a list of numbers separated by spaces: \")\n",
        "\n",
        "# Convert the input string to a list of numbers\n",
        "try:\n",
        "  numbers_list = [int(x) for x in input_str.split()]\n",
        "  # Convert the list to a tuple\n",
        "  numbers_tuple = tuple(numbers_list)\n",
        "\n",
        "  # Initialize variables for sums\n",
        "  sum_even = 0\n",
        "  sum_odd = 0\n",
        "\n",
        "  # Iterate through the tuple and calculate sums\n",
        "  for number in numbers_tuple:\n",
        "    if number % 2 == 0:\n",
        "      sum_even += number\n",
        "    else:\n",
        "      sum_odd += number\n",
        "\n",
        "  # Print the results\n",
        "  print(f\"\\nOriginal tuple: {numbers_tuple}\")\n",
        "  print(f\"Sum of even numbers: {sum_even}\")\n",
        "  print(f\"Sum of odd numbers: {sum_odd}\")\n",
        "\n",
        "except ValueError:\n",
        "  print(\"Invalid input. Please enter a list of integers separated by spaces.\")"
      ],
      "metadata": {
        "colab": {
          "base_uri": "https://localhost:8080/"
        },
        "id": "wCUS0L0IfNUs",
        "outputId": "65e5f7c5-6a53-4a80-f1f5-e32ea34c9ff8"
      },
      "execution_count": null,
      "outputs": [
        {
          "output_type": "stream",
          "name": "stdout",
          "text": [
            "Enter a list of numbers separated by spaces: 3 4 5 6 \n",
            "\n",
            "Original tuple: (3, 4, 5, 6)\n",
            "Sum of even numbers: 10\n",
            "Sum of odd numbers: 8\n"
          ]
        }
      ]
    },
    {
      "cell_type": "markdown",
      "source": [
        "Explanation:\n",
        "This code asks you to give it a list of whole numbers. It then looks at each number and adds up all the even ones separately and all the odd ones separately. Finally, it shows you the total sum for the even numbers and the total sum for the odd numbers."
      ],
      "metadata": {
        "id": "dMOgbp1zfVs9"
      }
    }
  ]
}